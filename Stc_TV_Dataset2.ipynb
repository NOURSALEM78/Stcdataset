{
  "nbformat": 4,
  "nbformat_minor": 0,
  "metadata": {
    "colab": {
      "provenance": [],
      "authorship_tag": "ABX9TyOF1jtLyuDeeJ2rpz86doFM",
      "include_colab_link": true
    },
    "kernelspec": {
      "name": "python3",
      "display_name": "Python 3"
    },
    "language_info": {
      "name": "python"
    }
  },
  "cells": [
    {
      "cell_type": "markdown",
      "metadata": {
        "id": "view-in-github",
        "colab_type": "text"
      },
      "source": [
        "<a href=\"https://colab.research.google.com/github/NOURSALEM78/Stcdataset/blob/main/Stc_TV_Dataset2.ipynb\" target=\"_parent\"><img src=\"https://colab.research.google.com/assets/colab-badge.svg\" alt=\"Open In Colab\"/></a>"
      ]
    },
    {
      "cell_type": "code",
      "execution_count": 1,
      "metadata": {
        "id": "akuOPEU0hzxu"
      },
      "outputs": [],
      "source": [
        "import pandas as pd\n",
        "import numpy as np\n",
        "import matplotlib.pyplot as plt\n",
        "from sklearn.model_selection import train_test_split\n",
        "from sklearn.linear_model import LinearRegression\n",
        "from sklearn.metrics import mean_absolute_error, mean_squared_error"
      ]
    },
    {
      "cell_type": "code",
      "source": [
        "stcdata = pd.read_excel(\"stc TV Data Set_T2 .xlsx\")"
      ],
      "metadata": {
        "id": "JlmKFjcAiOZC"
      },
      "execution_count": 3,
      "outputs": []
    },
    {
      "cell_type": "code",
      "source": [
        "print(stcdata.head())  # عرض أول 5 صفوف"
      ],
      "metadata": {
        "colab": {
          "base_uri": "https://localhost:8080/"
        },
        "id": "C9X4lkhTifP0",
        "outputId": "8e37a354-f9e6-4310-918b-4a37778471af"
      },
      "execution_count": 4,
      "outputs": [
        {
          "output_type": "stream",
          "name": "stdout",
          "text": [
            "   Unnamed: 0      date_  Total_watch_time_in_houres\n",
            "0           0 2018-01-01                 1123.551944\n",
            "1           1 2018-01-02                 1000.129722\n",
            "2           2 2018-01-03                  881.924444\n",
            "3           3 2018-01-04                  782.669444\n",
            "4           4 2018-01-05                 1051.939444\n"
          ]
        }
      ]
    },
    {
      "cell_type": "code",
      "source": [
        "print(stcdata.info())  # معرفة أنواع البيانات"
      ],
      "metadata": {
        "colab": {
          "base_uri": "https://localhost:8080/"
        },
        "id": "08lQ06kpioOI",
        "outputId": "dddb9661-ab38-4187-a6b1-2d6d251ec7db"
      },
      "execution_count": 7,
      "outputs": [
        {
          "output_type": "stream",
          "name": "stdout",
          "text": [
            "<class 'pandas.core.frame.DataFrame'>\n",
            "RangeIndex: 86 entries, 0 to 85\n",
            "Data columns (total 3 columns):\n",
            " #   Column                      Non-Null Count  Dtype         \n",
            "---  ------                      --------------  -----         \n",
            " 0   Unnamed: 0                  86 non-null     int64         \n",
            " 1   date_                       86 non-null     datetime64[ns]\n",
            " 2   Total_watch_time_in_houres  86 non-null     float64       \n",
            "dtypes: datetime64[ns](1), float64(1), int64(1)\n",
            "memory usage: 2.1 KB\n",
            "None\n"
          ]
        }
      ]
    },
    {
      "cell_type": "code",
      "source": [
        "datastc1 = stcdata.drop(columns=[\"Unnamed: 0\"])\n",
        "print(datastc1.info)"
      ],
      "metadata": {
        "colab": {
          "base_uri": "https://localhost:8080/"
        },
        "id": "iGpDB6XrjM9r",
        "outputId": "db0115a3-dbb4-4d6b-f458-dc5ae7a8058c"
      },
      "execution_count": 9,
      "outputs": [
        {
          "output_type": "stream",
          "name": "stdout",
          "text": [
            "<bound method DataFrame.info of         date_  Total_watch_time_in_houres\n",
            "0  2018-01-01                 1123.551944\n",
            "1  2018-01-02                 1000.129722\n",
            "2  2018-01-03                  881.924444\n",
            "3  2018-01-04                  782.669444\n",
            "4  2018-01-05                 1051.939444\n",
            "..        ...                         ...\n",
            "81 2018-04-24                  652.625278\n",
            "82 2018-04-25                  650.428889\n",
            "83 2018-04-26                  675.184444\n",
            "84 2018-04-27                  601.738056\n",
            "85 2018-04-30                  609.281667\n",
            "\n",
            "[86 rows x 2 columns]>\n"
          ]
        }
      ]
    },
    {
      "cell_type": "code",
      "source": [
        "print(datastc1.describe())  # إحصائيات أساسية"
      ],
      "metadata": {
        "colab": {
          "base_uri": "https://localhost:8080/"
        },
        "id": "UvhlnQnxiqqk",
        "outputId": "9ef4c174-5d1b-4fba-e401-57fe1906f7b7"
      },
      "execution_count": 10,
      "outputs": [
        {
          "output_type": "stream",
          "name": "stdout",
          "text": [
            "                               date_  Total_watch_time_in_houres\n",
            "count                             86                   86.000000\n",
            "mean   2018-02-28 17:01:23.720930304                  780.817926\n",
            "min              2018-01-01 00:00:00                  562.124722\n",
            "25%              2018-01-30 06:00:00                  707.709653\n",
            "50%              2018-02-28 12:00:00                  763.181389\n",
            "75%              2018-03-29 18:00:00                  840.985278\n",
            "max              2018-04-30 00:00:00                 1123.551944\n",
            "std                              NaN                  122.992002\n"
          ]
        }
      ]
    },
    {
      "cell_type": "code",
      "source": [
        "datastc1[\"month\"] = datastc1[\"date_\"].dt.month  # رقم الشهر\n",
        "datastc1[\"day\"] = datastc1[\"date_\"].dt.day  # رقم اليوم\n",
        "datastc1[\"weekday\"] = datastc1[\"date_\"].dt.weekday  # يوم الأسبوع (0=الإثنين)\n",
        "print(datastc1.head())"
      ],
      "metadata": {
        "colab": {
          "base_uri": "https://localhost:8080/"
        },
        "id": "EzXWNVPmjeLP",
        "outputId": "9484f997-b36f-46fd-f0c3-2421cbeb4944"
      },
      "execution_count": 12,
      "outputs": [
        {
          "output_type": "stream",
          "name": "stdout",
          "text": [
            "       date_  Total_watch_time_in_houres  month  day  weekday\n",
            "0 2018-01-01                 1123.551944      1    1        0\n",
            "1 2018-01-02                 1000.129722      1    2        1\n",
            "2 2018-01-03                  881.924444      1    3        2\n",
            "3 2018-01-04                  782.669444      1    4        3\n",
            "4 2018-01-05                 1051.939444      1    5        4\n"
          ]
        }
      ]
    },
    {
      "cell_type": "code",
      "source": [
        "X = datastc1[[\"month\", \"day\", \"weekday\"]]  # الميزات المدخلة\n",
        "y = datastc1[\"Total_watch_time_in_houres\"]  # المتغير المستهدف\n",
        "\n",
        "print(\"\\n📌 شكل البيانات المدخلة (X):\")\n",
        "print(X.head())\n",
        "\n",
        "print(\"\\n📌 شكل البيانات المستهدفة (y):\")\n",
        "print(y.head())"
      ],
      "metadata": {
        "colab": {
          "base_uri": "https://localhost:8080/"
        },
        "id": "zk3u0-O0j2Qg",
        "outputId": "612417c9-0857-4378-9e47-cb91576de4ee"
      },
      "execution_count": 14,
      "outputs": [
        {
          "output_type": "stream",
          "name": "stdout",
          "text": [
            "\n",
            "📌 شكل البيانات المدخلة (X):\n",
            "   month  day  weekday\n",
            "0      1    1        0\n",
            "1      1    2        1\n",
            "2      1    3        2\n",
            "3      1    4        3\n",
            "4      1    5        4\n",
            "\n",
            "📌 شكل البيانات المستهدفة (y):\n",
            "0    1123.551944\n",
            "1    1000.129722\n",
            "2     881.924444\n",
            "3     782.669444\n",
            "4    1051.939444\n",
            "Name: Total_watch_time_in_houres, dtype: float64\n"
          ]
        }
      ]
    },
    {
      "cell_type": "code",
      "source": [
        "X_train, X_test, y_train, y_test = train_test_split(X, y, test_size=0.2, random_state=42)\n",
        "\n",
        "print(\"\\n📌 حجم بيانات التدريب:\")\n",
        "print(X_train.shape, y_train.shape)\n",
        "\n",
        "print(\"\\n📌 حجم بيانات الاختبار:\")\n",
        "print(X_test.shape, y_test.shape)"
      ],
      "metadata": {
        "colab": {
          "base_uri": "https://localhost:8080/"
        },
        "id": "40tnq5OkkDnt",
        "outputId": "6cea86e4-c9d7-4467-c778-713f803f5625"
      },
      "execution_count": 15,
      "outputs": [
        {
          "output_type": "stream",
          "name": "stdout",
          "text": [
            "\n",
            "📌 حجم بيانات التدريب:\n",
            "(68, 3) (68,)\n",
            "\n",
            "📌 حجم بيانات الاختبار:\n",
            "(18, 3) (18,)\n"
          ]
        }
      ]
    },
    {
      "cell_type": "code",
      "source": [
        "model = LinearRegression()\n",
        "model.fit(X_train, y_train)\n",
        "\n",
        "print(\"\\n📌 تم تدريب النموذج بنجاح!\")\n",
        "print(\"📌 معاملات النموذج (Coefficients):\", model.coef_)\n",
        "print(\"📌 الثابت (Intercept):\", model.intercept_)"
      ],
      "metadata": {
        "colab": {
          "base_uri": "https://localhost:8080/"
        },
        "id": "_G8E4UcpkIy7",
        "outputId": "d462a0e6-deb9-4aab-a0c6-8760c4001e3d"
      },
      "execution_count": 16,
      "outputs": [
        {
          "output_type": "stream",
          "name": "stdout",
          "text": [
            "\n",
            "📌 تم تدريب النموذج بنجاح!\n",
            "📌 معاملات النموذج (Coefficients): [-54.35390036  -3.25176403  -3.3682544 ]\n",
            "📌 الثابت (Intercept): 981.4591870973271\n"
          ]
        }
      ]
    },
    {
      "cell_type": "code",
      "source": [
        "y_pred = model.predict(X_test)\n",
        "mae = mean_absolute_error(y_test, y_pred)\n",
        "mse = mean_squared_error(y_test, y_pred)\n",
        "\n",
        "print(\"\\n📌 تقييم النموذج:\")\n",
        "print(f\"🔹 Mean Absolute Error (MAE): {mae:.2f}\")\n",
        "print(f\"🔹 Mean Squared Error (MSE): {mse:.2f}\")\n"
      ],
      "metadata": {
        "colab": {
          "base_uri": "https://localhost:8080/"
        },
        "id": "TR-rRaZjkPoM",
        "outputId": "bd7cb927-edeb-4ddc-9a94-47e27b01cf31"
      },
      "execution_count": 23,
      "outputs": [
        {
          "output_type": "stream",
          "name": "stdout",
          "text": [
            "\n",
            "📌 تقييم النموذج:\n",
            "🔹 Mean Absolute Error (MAE): 89.67\n",
            "🔹 Mean Squared Error (MSE): 11172.97\n"
          ]
        }
      ]
    },
    {
      "source": [
        "future_dates = pd.date_range(start=datastc1[\"date_\"].max(), periods=60, freq=\"D\") # Changed df to datastc1\n",
        "future_df = pd.DataFrame({\n",
        "    \"month\": future_dates.month,\n",
        "    \"day\": future_dates.day,\n",
        "    \"weekday\": future_dates.weekday\n",
        "})\n",
        "\n",
        "future_predictions = model.predict(future_df)\n",
        "\n",
        "print(\"\\n📌 التنبؤات لأول 5 أيام قادمة:\")\n",
        "for date, pred in zip(future_dates[:5], future_predictions[:5]):\n",
        "    print(f\"{date.date()} → {pred:.2f} ساعة مشاهدة\")"
      ],
      "cell_type": "code",
      "metadata": {
        "colab": {
          "base_uri": "https://localhost:8080/"
        },
        "id": "MSh2FXRYkt0e",
        "outputId": "a77b2b2a-2d2a-4cbc-824b-0efb5584f02b"
      },
      "execution_count": 24,
      "outputs": [
        {
          "output_type": "stream",
          "name": "stdout",
          "text": [
            "\n",
            "📌 التنبؤات لأول 5 أيام قادمة:\n",
            "2018-04-30 → 666.49 ساعة مشاهدة\n",
            "2018-05-01 → 703.07 ساعة مشاهدة\n",
            "2018-05-02 → 696.45 ساعة مشاهدة\n",
            "2018-05-03 → 689.83 ساعة مشاهدة\n",
            "2018-05-04 → 683.21 ساعة مشاهدة\n"
          ]
        }
      ]
    },
    {
      "cell_type": "code",
      "source": [
        "\n",
        "plt.figure(figsize=(12, 5))\n",
        "plt.plot(future_dates, future_predictions, label=\"Predicted Watch Time\", color=\"blue\")\n",
        "plt.xlabel(\"Date\")\n",
        "plt.ylabel(\"Total Watch Time (hours)\")\n",
        "plt.title(\"Predicted Watch Time for Next 2 Months\")\n",
        "plt.legend()\n",
        "plt.show()\n"
      ],
      "metadata": {
        "colab": {
          "base_uri": "https://localhost:8080/",
          "height": 487
        },
        "id": "Tcy0_FJKky0T",
        "outputId": "645cfb4f-5885-41af-a353-4466b7294365"
      },
      "execution_count": 25,
      "outputs": [
        {
          "output_type": "display_data",
          "data": {
            "text/plain": [
              "<Figure size 1200x500 with 1 Axes>"
            ],
            "image/png": "[encoded data removed]"
          },
          "metadata": {}
        }
      ]
    }
  ]
}