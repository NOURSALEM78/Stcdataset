{
  "nbformat": 4,
  "nbformat_minor": 0,
  "metadata": {
    "colab": {
      "provenance": []
    },
    "kernelspec": {
      "name": "python3",
      "display_name": "Python 3"
    },
    "language_info": {
      "name": "python"
    }
  },
  "cells": [
    {
      "cell_type": "code",
      "source": [
        "!pip install pyxlsb"
      ],
      "metadata": {
        "colab": {
          "base_uri": "https://localhost:8080/"
        },
        "id": "iM1j1oY84yIr",
        "outputId": "5f8168fd-19df-43cb-b05c-4d29d0d5699f"
      },
      "execution_count": null,
      "outputs": [
        {
          "output_type": "stream",
          "name": "stdout",
          "text": [
            "Requirement already satisfied: pyxlsb in /usr/local/lib/python3.11/dist-packages (1.0.10)\n"
          ]
        }
      ]
    },
    {
      "cell_type": "code",
      "execution_count": null,
      "metadata": {
        "id": "2KET4cAnz57F"
      },
      "outputs": [],
      "source": [
        "# استيراد المكتبات اللازمة لتحليل البيانات وتمثيلها بصريًا\n",
        "import pandas as pd\n",
        "import matplotlib.pyplot as plt\n",
        "import seaborn as sns"
      ]
    },
    {
      "cell_type": "code",
      "source": [
        "# 📌 1️⃣ تحميل البيانات من ملف XLSB باستخدام محرك pyxlsb\n",
        "file_path = \"stc TV Data Set_T1.xlsb\"\n",
        "datastc = pd.read_excel(file_path, sheet_name=\"Final_Dataset\", engine=\"pyxlsb\")"
      ],
      "metadata": {
        "id": "N9zK75ti2aPK"
      },
      "execution_count": null,
      "outputs": []
    },
    {
      "cell_type": "code",
      "source": [
        "datastc.info()"
      ],
      "metadata": {
        "colab": {
          "base_uri": "https://localhost:8080/"
        },
        "id": "1QJuGOnp69YP",
        "outputId": "566791f8-42ae-416e-eb49-363ee1627e17"
      },
      "execution_count": null,
      "outputs": [
        {
          "output_type": "stream",
          "name": "stdout",
          "text": [
            "<class 'pandas.core.frame.DataFrame'>\n",
            "RangeIndex: 1048575 entries, 0 to 1048574\n",
            "Data columns (total 13 columns):\n",
            " #   Column            Non-Null Count    Dtype \n",
            "---  ------            --------------    ----- \n",
            " 0   Column1           1048575 non-null  int64 \n",
            " 1   date_             1048575 non-null  int64 \n",
            " 2   user_id_maped     1048575 non-null  int64 \n",
            " 3   program_name      1048575 non-null  object\n",
            " 4   duration_seconds  1048575 non-null  int64 \n",
            " 5   program_class     1048575 non-null  object\n",
            " 6   season            1048575 non-null  int64 \n",
            " 7   episode           1048575 non-null  int64 \n",
            " 8   program_desc      1034537 non-null  object\n",
            " 9   program_genre     1048575 non-null  object\n",
            " 10  series_title      1048575 non-null  int64 \n",
            " 11  hd                1048575 non-null  int64 \n",
            " 12  original_name     1048575 non-null  object\n",
            "dtypes: int64(8), object(5)\n",
            "memory usage: 104.0+ MB\n"
          ]
        }
      ]
    },
    {
      "cell_type": "code",
      "source": [
        "datastc.head()"
      ],
      "metadata": {
        "colab": {
          "base_uri": "https://localhost:8080/",
          "height": 382
        },
        "id": "7VT3kBCO7Lvh",
        "outputId": "0e00390c-2935-4c16-e705-b3956fa0e6ce"
      },
      "execution_count": null,
      "outputs": [
        {
          "output_type": "execute_result",
          "data": {
            "text/plain": [
              "   Column1  date_  user_id_maped           program_name  duration_seconds  \\\n",
              "0        1  42882          26138             100 treets                40   \n",
              "1        3  42876           7946                 Moana                 17   \n",
              "2        4  42957           7418  The Mermaid Princess                  8   \n",
              "3        5  42942          19307  The Mermaid Princess                 76   \n",
              "4        7  42923          15860             Churchill                 87   \n",
              "\n",
              "  program_class  season  episode                              program_desc  \\\n",
              "0         MOVIE       0        0                    Drama Movie100 Streets   \n",
              "1         MOVIE       0        0                 Animation MovieMoana (HD)   \n",
              "2         MOVIE       0        0  Animation MovieThe Mermaid Princess (HD)   \n",
              "3         MOVIE       0        0  Animation MovieThe Mermaid Princess (HD)   \n",
              "4         MOVIE       0        0             Biography MovieChurchill (HD)   \n",
              "\n",
              "  program_genre  series_title  hd         original_name  \n",
              "0         Drama             0   0            100 treets  \n",
              "1     Animation             0   1                 Moana  \n",
              "2     Animation             0   1  The Mermaid Princess  \n",
              "3     Animation             0   1  The Mermaid Princess  \n",
              "4     Biography             0   1             Churchill  "
            ],
            "text/html": [
              "\n",
              "  <div id=\"df-12550911-429a-435d-8336-aee0822e11b0\" class=\"colab-df-container\">\n",
              "    <div>\n",
              "<style scoped>\n",
              "    .dataframe tbody tr th:only-of-type {\n",
              "        vertical-align: middle;\n",
              "    }\n",
              "\n",
              "    .dataframe tbody tr th {\n",
              "        vertical-align: top;\n",
              "    }\n",
              "\n",
              "    .dataframe thead th {\n",
              "        text-align: right;\n",
              "    }\n",
              "</style>\n",
              "<table border=\"1\" class=\"dataframe\">\n",
              "  <thead>\n",
              "    <tr style=\"text-align: right;\">\n",
              "      <th></th>\n",
              "      <th>Column1</th>\n",
              "      <th>date_</th>\n",
              "      <th>user_id_maped</th>\n",
              "      <th>program_name</th>\n",
              "      <th>duration_seconds</th>\n",
              "      <th>program_class</th>\n",
              "      <th>season</th>\n",
              "      <th>episode</th>\n",
              "      <th>program_desc</th>\n",
              "      <th>program_genre</th>\n",
              "      <th>series_title</th>\n",
              "      <th>hd</th>\n",
              "      <th>original_name</th>\n",
              "    </tr>\n",
              "  </thead>\n",
              "  <tbody>\n",
              "    <tr>\n",
              "      <th>0</th>\n",
              "      <td>1</td>\n",
              "      <td>42882</td>\n",
              "      <td>26138</td>\n",
              "      <td>100 treets</td>\n",
              "      <td>40</td>\n",
              "      <td>MOVIE</td>\n",
              "      <td>0</td>\n",
              "      <td>0</td>\n",
              "      <td>Drama Movie100 Streets</td>\n",
              "      <td>Drama</td>\n",
              "      <td>0</td>\n",
              "      <td>0</td>\n",
              "      <td>100 treets</td>\n",
              "    </tr>\n",
              "    <tr>\n",
              "      <th>1</th>\n",
              "      <td>3</td>\n",
              "      <td>42876</td>\n",
              "      <td>7946</td>\n",
              "      <td>Moana</td>\n",
              "      <td>17</td>\n",
              "      <td>MOVIE</td>\n",
              "      <td>0</td>\n",
              "      <td>0</td>\n",
              "      <td>Animation MovieMoana (HD)</td>\n",
              "      <td>Animation</td>\n",
              "      <td>0</td>\n",
              "      <td>1</td>\n",
              "      <td>Moana</td>\n",
              "    </tr>\n",
              "    <tr>\n",
              "      <th>2</th>\n",
              "      <td>4</td>\n",
              "      <td>42957</td>\n",
              "      <td>7418</td>\n",
              "      <td>The Mermaid Princess</td>\n",
              "      <td>8</td>\n",
              "      <td>MOVIE</td>\n",
              "      <td>0</td>\n",
              "      <td>0</td>\n",
              "      <td>Animation MovieThe Mermaid Princess (HD)</td>\n",
              "      <td>Animation</td>\n",
              "      <td>0</td>\n",
              "      <td>1</td>\n",
              "      <td>The Mermaid Princess</td>\n",
              "    </tr>\n",
              "    <tr>\n",
              "      <th>3</th>\n",
              "      <td>5</td>\n",
              "      <td>42942</td>\n",
              "      <td>19307</td>\n",
              "      <td>The Mermaid Princess</td>\n",
              "      <td>76</td>\n",
              "      <td>MOVIE</td>\n",
              "      <td>0</td>\n",
              "      <td>0</td>\n",
              "      <td>Animation MovieThe Mermaid Princess (HD)</td>\n",
              "      <td>Animation</td>\n",
              "      <td>0</td>\n",
              "      <td>1</td>\n",
              "      <td>The Mermaid Princess</td>\n",
              "    </tr>\n",
              "    <tr>\n",
              "      <th>4</th>\n",
              "      <td>7</td>\n",
              "      <td>42923</td>\n",
              "      <td>15860</td>\n",
              "      <td>Churchill</td>\n",
              "      <td>87</td>\n",
              "      <td>MOVIE</td>\n",
              "      <td>0</td>\n",
              "      <td>0</td>\n",
              "      <td>Biography MovieChurchill (HD)</td>\n",
              "      <td>Biography</td>\n",
              "      <td>0</td>\n",
              "      <td>1</td>\n",
              "      <td>Churchill</td>\n",
              "    </tr>\n",
              "  </tbody>\n",
              "</table>\n",
              "</div>\n",
              "    <div class=\"colab-df-buttons\">\n",
              "\n",
              "  <div class=\"colab-df-container\">\n",
              "    <button class=\"colab-df-convert\" onclick=\"convertToInteractive('df-12550911-429a-435d-8336-aee0822e11b0')\"\n",
              "            title=\"Convert this dataframe to an interactive table.\"\n",
              "            style=\"display:none;\">\n",
              "\n",
              "  <svg xmlns=\"http://www.w3.org/2000/svg\" height=\"24px\" viewBox=\"0 -960 960 960\">\n",
              "    <path d=\"M120-120v-720h720v720H120Zm60-500h600v-160H180v160Zm220 220h160v-160H400v160Zm0 220h160v-160H400v160ZM180-400h160v-160H180v160Zm440 0h160v-160H620v160ZM180-180h160v-160H180v160Zm440 0h160v-160H620v160Z\"/>\n",
              "  </svg>\n",
              "    </button>\n",
              "\n",
              "  <style>\n",
              "    .colab-df-container {\n",
              "      display:flex;\n",
              "      gap: 12px;\n",
              "    }\n",
              "\n",
              "    .colab-df-convert {\n",
              "      background-color: #E8F0FE;\n",
              "      border: none;\n",
              "      border-radius: 50%;\n",
              "      cursor: pointer;\n",
              "      display: none;\n",
              "      fill: #1967D2;\n",
              "      height: 32px;\n",
              "      padding: 0 0 0 0;\n",
              "      width: 32px;\n",
              "    }\n",
              "\n",
              "    .colab-df-convert:hover {\n",
              "      background-color: #E2EBFA;\n",
              "      box-shadow: 0px 1px 2px rgba(60, 64, 67, 0.3), 0px 1px 3px 1px rgba(60, 64, 67, 0.15);\n",
              "      fill: #174EA6;\n",
              "    }\n",
              "\n",
              "    .colab-df-buttons div {\n",
              "      margin-bottom: 4px;\n",
              "    }\n",
              "\n",
              "    [theme=dark] .colab-df-convert {\n",
              "      background-color: #3B4455;\n",
              "      fill: #D2E3FC;\n",
              "    }\n",
              "\n",
              "    [theme=dark] .colab-df-convert:hover {\n",
              "      background-color: #434B5C;\n",
              "      box-shadow: 0px 1px 3px 1px rgba(0, 0, 0, 0.15);\n",
              "      filter: drop-shadow(0px 1px 2px rgba(0, 0, 0, 0.3));\n",
              "      fill: #FFFFFF;\n",
              "    }\n",
              "  </style>\n",
              "\n",
              "    <script>\n",
              "      const buttonEl =\n",
              "        document.querySelector('#df-12550911-429a-435d-8336-aee0822e11b0 button.colab-df-convert');\n",
              "      buttonEl.style.display =\n",
              "        google.colab.kernel.accessAllowed ? 'block' : 'none';\n",
              "\n",
              "      async function convertToInteractive(key) {\n",
              "        const element = document.querySelector('#df-12550911-429a-435d-8336-aee0822e11b0');\n",
              "        const dataTable =\n",
              "          await google.colab.kernel.invokeFunction('convertToInteractive',\n",
              "                                                    [key], {});\n",
              "        if (!dataTable) return;\n",
              "\n",
              "        const docLinkHtml = 'Like what you see? Visit the ' +\n",
              "          '<a target=\"_blank\" href=https://colab.research.google.com/notebooks/data_table.ipynb>data table notebook</a>'\n",
              "          + ' to learn more about interactive tables.';\n",
              "        element.innerHTML = '';\n",
              "        dataTable['output_type'] = 'display_data';\n",
              "        await google.colab.output.renderOutput(dataTable, element);\n",
              "        const docLink = document.createElement('div');\n",
              "        docLink.innerHTML = docLinkHtml;\n",
              "        element.appendChild(docLink);\n",
              "      }\n",
              "    </script>\n",
              "  </div>\n",
              "\n",
              "\n",
              "<div id=\"df-dbd51ccc-e9d3-43e5-b0d4-04360025685e\">\n",
              "  <button class=\"colab-df-quickchart\" onclick=\"quickchart('df-dbd51ccc-e9d3-43e5-b0d4-04360025685e')\"\n",
              "            title=\"Suggest charts\"\n",
              "            style=\"display:none;\">\n",
              "\n",
              "<svg xmlns=\"http://www.w3.org/2000/svg\" height=\"24px\"viewBox=\"0 0 24 24\"\n",
              "     width=\"24px\">\n",
              "    <g>\n",
              "        <path d=\"M19 3H5c-1.1 0-2 .9-2 2v14c0 1.1.9 2 2 2h14c1.1 0 2-.9 2-2V5c0-1.1-.9-2-2-2zM9 17H7v-7h2v7zm4 0h-2V7h2v10zm4 0h-2v-4h2v4z\"/>\n",
              "    </g>\n",
              "</svg>\n",
              "  </button>\n",
              "\n",
              "<style>\n",
              "  .colab-df-quickchart {\n",
              "      --bg-color: #E8F0FE;\n",
              "      --fill-color: #1967D2;\n",
              "      --hover-bg-color: #E2EBFA;\n",
              "      --hover-fill-color: #174EA6;\n",
              "      --disabled-fill-color: #AAA;\n",
              "      --disabled-bg-color: #DDD;\n",
              "  }\n",
              "\n",
              "  [theme=dark] .colab-df-quickchart {\n",
              "      --bg-color: #3B4455;\n",
              "      --fill-color: #D2E3FC;\n",
              "      --hover-bg-color: #434B5C;\n",
              "      --hover-fill-color: #FFFFFF;\n",
              "      --disabled-bg-color: #3B4455;\n",
              "      --disabled-fill-color: #666;\n",
              "  }\n",
              "\n",
              "  .colab-df-quickchart {\n",
              "    background-color: var(--bg-color);\n",
              "    border: none;\n",
              "    border-radius: 50%;\n",
              "    cursor: pointer;\n",
              "    display: none;\n",
              "    fill: var(--fill-color);\n",
              "    height: 32px;\n",
              "    padding: 0;\n",
              "    width: 32px;\n",
              "  }\n",
              "\n",
              "  .colab-df-quickchart:hover {\n",
              "    background-color: var(--hover-bg-color);\n",
              "    box-shadow: 0 1px 2px rgba(60, 64, 67, 0.3), 0 1px 3px 1px rgba(60, 64, 67, 0.15);\n",
              "    fill: var(--button-hover-fill-color);\n",
              "  }\n",
              "\n",
              "  .colab-df-quickchart-complete:disabled,\n",
              "  .colab-df-quickchart-complete:disabled:hover {\n",
              "    background-color: var(--disabled-bg-color);\n",
              "    fill: var(--disabled-fill-color);\n",
              "    box-shadow: none;\n",
              "  }\n",
              "\n",
              "  .colab-df-spinner {\n",
              "    border: 2px solid var(--fill-color);\n",
              "    border-color: transparent;\n",
              "    border-bottom-color: var(--fill-color);\n",
              "    animation:\n",
              "      spin 1s steps(1) infinite;\n",
              "  }\n",
              "\n",
              "  @keyframes spin {\n",
              "    0% {\n",
              "      border-color: transparent;\n",
              "      border-bottom-color: var(--fill-color);\n",
              "      border-left-color: var(--fill-color);\n",
              "    }\n",
              "    20% {\n",
              "      border-color: transparent;\n",
              "      border-left-color: var(--fill-color);\n",
              "      border-top-color: var(--fill-color);\n",
              "    }\n",
              "    30% {\n",
              "      border-color: transparent;\n",
              "      border-left-color: var(--fill-color);\n",
              "      border-top-color: var(--fill-color);\n",
              "      border-right-color: var(--fill-color);\n",
              "    }\n",
              "    40% {\n",
              "      border-color: transparent;\n",
              "      border-right-color: var(--fill-color);\n",
              "      border-top-color: var(--fill-color);\n",
              "    }\n",
              "    60% {\n",
              "      border-color: transparent;\n",
              "      border-right-color: var(--fill-color);\n",
              "    }\n",
              "    80% {\n",
              "      border-color: transparent;\n",
              "      border-right-color: var(--fill-color);\n",
              "      border-bottom-color: var(--fill-color);\n",
              "    }\n",
              "    90% {\n",
              "      border-color: transparent;\n",
              "      border-bottom-color: var(--fill-color);\n",
              "    }\n",
              "  }\n",
              "</style>\n",
              "\n",
              "  <script>\n",
              "    async function quickchart(key) {\n",
              "      const quickchartButtonEl =\n",
              "        document.querySelector('#' + key + ' button');\n",
              "      quickchartButtonEl.disabled = true;  // To prevent multiple clicks.\n",
              "      quickchartButtonEl.classList.add('colab-df-spinner');\n",
              "      try {\n",
              "        const charts = await google.colab.kernel.invokeFunction(\n",
              "            'suggestCharts', [key], {});\n",
              "      } catch (error) {\n",
              "        console.error('Error during call to suggestCharts:', error);\n",
              "      }\n",
              "      quickchartButtonEl.classList.remove('colab-df-spinner');\n",
              "      quickchartButtonEl.classList.add('colab-df-quickchart-complete');\n",
              "    }\n",
              "    (() => {\n",
              "      let quickchartButtonEl =\n",
              "        document.querySelector('#df-dbd51ccc-e9d3-43e5-b0d4-04360025685e button');\n",
              "      quickchartButtonEl.style.display =\n",
              "        google.colab.kernel.accessAllowed ? 'block' : 'none';\n",
              "    })();\n",
              "  </script>\n",
              "</div>\n",
              "\n",
              "    </div>\n",
              "  </div>\n"
            ],
            "application/vnd.google.colaboratory.intrinsic+json": {
              "type": "dataframe",
              "variable_name": "datastc"
            }
          },
          "metadata": {},
          "execution_count": 33
        }
      ]
    },
    {
      "cell_type": "code",
      "source": [
        "# 📌 2️⃣ التحقق من وجود قيم مفقودة في أي عمود\n",
        "\n",
        "print(datastc.isnull().sum())"
      ],
      "metadata": {
        "colab": {
          "base_uri": "https://localhost:8080/"
        },
        "id": "6oHeiw3p7P9i",
        "outputId": "19a0427c-76ba-4d17-a120-9d87eadf478d"
      },
      "execution_count": null,
      "outputs": [
        {
          "output_type": "stream",
          "name": "stdout",
          "text": [
            "Column1                 0\n",
            "date_                   0\n",
            "user_id_maped           0\n",
            "program_name            0\n",
            "duration_seconds        0\n",
            "program_class           0\n",
            "season                  0\n",
            "episode                 0\n",
            "program_desc        14038\n",
            "program_genre           0\n",
            "series_title            0\n",
            "hd                      0\n",
            "original_name           0\n",
            "dtype: int64\n"
          ]
        }
      ]
    },
    {
      "cell_type": "code",
      "source": [
        "# 📌 3️⃣ معالجة القيم المفقودة في عمود 'program_desc' عن طريق استبدالها بنص \"No Description\"\n",
        "\n",
        "datastc[\"program_desc\"] = datastc[\"program_desc\"].fillna(\"No Description\")\n"
      ],
      "metadata": {
        "id": "1pm7QZTB8YXt"
      },
      "execution_count": null,
      "outputs": []
    },
    {
      "cell_type": "code",
      "source": [
        "print(datastc.isnull().sum())  # لمعرفة عدد القيم المفقودة في كل عمود"
      ],
      "metadata": {
        "colab": {
          "base_uri": "https://localhost:8080/"
        },
        "id": "BMhX8EP38shi",
        "outputId": "8aa19f4d-8a66-410d-9444-332b9d6babec"
      },
      "execution_count": null,
      "outputs": [
        {
          "output_type": "stream",
          "name": "stdout",
          "text": [
            "Column1             0\n",
            "date_               0\n",
            "user_id_maped       0\n",
            "program_name        0\n",
            "duration_seconds    0\n",
            "program_class       0\n",
            "season              0\n",
            "episode             0\n",
            "program_desc        0\n",
            "program_genre       0\n",
            "series_title        0\n",
            "hd                  0\n",
            "original_name       0\n",
            "dtype: int64\n"
          ]
        }
      ]
    },
    {
      "cell_type": "code",
      "source": [
        "# 📌 4️⃣ تحليل توزيع المشاهدات بناءً على نوع المحتوى (فيلم أو مسلسل)\n",
        "plt.figure(figsize=(6, 4))\n",
        "sns.countplot(x=\"program_class\", data=datastc, hue=\"program_class\", palette=\"coolwarm\", legend=False)\n",
        "plt.title(\"Distribution of Program Class (Movies vs. Series)\")\n",
        "plt.xlabel(\"Program Class\")\n",
        "plt.ylabel(\"Count\")\n",
        "plt.show()"
      ],
      "metadata": {
        "colab": {
          "base_uri": "https://localhost:8080/",
          "height": 409
        },
        "id": "DZgUdJEa8vAG",
        "outputId": "7158c296-db67-4ac5-c4f3-896a08e904b3"
      },
      "execution_count": null,
      "outputs": [
        {
          "output_type": "display_data",
          "data": {
            "text/plain": [
              "<Figure size 600x400 with 1 Axes>"
            ],
            "image/png": "[encoded data removed]"
          },
          "metadata": {}
        }
      ]
    },
    {
      "cell_type": "code",
      "source": [
        "# 📌 5️⃣ تحليل جودة المشاهدة (SD vs. HD)\n",
        "plt.figure(figsize=(6, 4))\n",
        "sns.countplot(x=\"hd\", data=datastc, hue=\"hd\", palette=\"viridis\", legend=False)\n",
        "plt.title(\"SD vs HD Viewers\")\n",
        "plt.xlabel(\"Quality (0 = SD, 1 = HD)\")\n",
        "plt.ylabel(\"Count\")\n",
        "plt.show()"
      ],
      "metadata": {
        "colab": {
          "base_uri": "https://localhost:8080/",
          "height": 409
        },
        "id": "Hg46I06p9KO2",
        "outputId": "c3e03e6b-1a3c-4943-c2d9-51b67c81d832"
      },
      "execution_count": null,
      "outputs": [
        {
          "output_type": "display_data",
          "data": {
            "text/plain": [
              "<Figure size 600x400 with 1 Axes>"
            ],
            "image/png": "[encoded data removed]"
          },
          "metadata": {}
        }
      ]
    },
    {
      "cell_type": "code",
      "source": [
        "# 📌 6️⃣ تحليل العلاقة بين جودة المشاهدة (SD/HD) ونوع المحتوى (فيلم/مسلسل)\n",
        "plt.figure(figsize=(8, 5))\n",
        "sns.heatmap(pd.crosstab(datastc[\"program_class\"], datastc[\"hd\"]), annot=True, cmap=\"coolwarm\", fmt=\"d\")\n",
        "plt.title(\"Program Class vs. Quality\")\n",
        "plt.xlabel(\"Quality (0 = SD, 1 = HD)\")\n",
        "plt.ylabel(\"Program Class\")\n",
        "plt.show()"
      ],
      "metadata": {
        "colab": {
          "base_uri": "https://localhost:8080/",
          "height": 487
        },
        "id": "NnU2SCnI9Zg5",
        "outputId": "05ae409f-8998-43a5-946d-a87da6d9aedb"
      },
      "execution_count": null,
      "outputs": [
        {
          "output_type": "display_data",
          "data": {
            "text/plain": [
              "<Figure size 800x500 with 2 Axes>"
            ],
            "image/png": "[encoded data removed]"
          },
          "metadata": {}
        }
      ]
    }
  ]
}